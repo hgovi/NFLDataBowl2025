{
 "cells": [
  {
   "cell_type": "code",
   "execution_count": 1,
   "metadata": {},
   "outputs": [],
   "source": [
    "import pandas as pd\n",
    "import glob\n",
    "\n",
    "# Paths to datasets\n",
    "games_path = 'data/games.csv'\n",
    "plays_path = 'data/plays.csv'\n",
    "tracking_files = glob.glob('data/tracking_week_*.csv')  # Collect all tracking files\n",
    "\n",
    "# Load the data\n",
    "games = pd.read_csv(games_path)\n",
    "plays = pd.read_csv(plays_path)"
   ]
  },
  {
   "cell_type": "code",
   "execution_count": 2,
   "metadata": {},
   "outputs": [
    {
     "name": "stderr",
     "output_type": "stream",
     "text": [
      "C:\\Users\\nadee_4wl0sna\\AppData\\Local\\Temp\\ipykernel_12804\\2515361275.py:11: SettingWithCopyWarning: \n",
      "A value is trying to be set on a copy of a slice from a DataFrame.\n",
      "Try using .loc[row_indexer,col_indexer] = value instead\n",
      "\n",
      "See the caveats in the documentation: https://pandas.pydata.org/pandas-docs/stable/user_guide/indexing.html#returning-a-view-versus-a-copy\n",
      "  pre_snap_data['motion_detected'] = pre_snap_data['event'].str.contains('man_in_motion', na=False)\n"
     ]
    }
   ],
   "source": [
    "# Merge all tracking files into a single DataFrame\n",
    "tracking_data = pd.concat([pd.read_csv(file) for file in tracking_files], ignore_index=True)\n",
    "\n",
    "# Merge plays with the combined tracking data on gameId and playId\n",
    "merged_data = pd.merge(tracking_data, plays, on=['gameId', 'playId'])\n",
    "\n",
    "# Filter for pre-snap frames (frameType == 'BEFORE_SNAP')\n",
    "pre_snap_data = merged_data[merged_data['frameType'] == 'BEFORE_SNAP']\n",
    "\n",
    "# Identify plays with motion based on the 'event' column\n",
    "pre_snap_data['motion_detected'] = pre_snap_data['event'].str.contains('man_in_motion', na=False)"
   ]
  },
  {
   "cell_type": "code",
   "execution_count": 3,
   "metadata": {},
   "outputs": [],
   "source": [
    "# Aggregate motion detection per play\n",
    "motion_summary = pre_snap_data.groupby(['gameId', 'playId']).agg(\n",
    "    motion_detected=('motion_detected', 'any')  # Whether 'man_in_motion' occurred\n",
    ").reset_index()\n",
    "\n",
    "# Merge motion summary back with plays to analyze play outcomes\n",
    "motion_analysis = pd.merge(motion_summary, plays, on=['gameId', 'playId'])\n",
    "\n",
    "# Compare yards gained for plays with vs. without motion\n",
    "motion_outcome = motion_analysis.groupby('motion_detected').agg(\n",
    "    avg_yards_gained=('yardsGained', 'mean'),\n",
    "    play_count=('playId', 'count')\n",
    ").reset_index()"
   ]
  },
  {
   "cell_type": "code",
   "execution_count": 4,
   "metadata": {},
   "outputs": [
    {
     "data": {
      "text/html": [
       "<div>\n",
       "<style scoped>\n",
       "    .dataframe tbody tr th:only-of-type {\n",
       "        vertical-align: middle;\n",
       "    }\n",
       "\n",
       "    .dataframe tbody tr th {\n",
       "        vertical-align: top;\n",
       "    }\n",
       "\n",
       "    .dataframe thead th {\n",
       "        text-align: right;\n",
       "    }\n",
       "</style>\n",
       "<table border=\"1\" class=\"dataframe\">\n",
       "  <thead>\n",
       "    <tr style=\"text-align: right;\">\n",
       "      <th></th>\n",
       "      <th>motion_detected</th>\n",
       "      <th>avg_yards_gained</th>\n",
       "      <th>play_count</th>\n",
       "    </tr>\n",
       "  </thead>\n",
       "  <tbody>\n",
       "    <tr>\n",
       "      <th>0</th>\n",
       "      <td>False</td>\n",
       "      <td>5.445203</td>\n",
       "      <td>10986</td>\n",
       "    </tr>\n",
       "    <tr>\n",
       "      <th>1</th>\n",
       "      <td>True</td>\n",
       "      <td>5.495617</td>\n",
       "      <td>5133</td>\n",
       "    </tr>\n",
       "  </tbody>\n",
       "</table>\n",
       "</div>"
      ],
      "text/plain": [
       "   motion_detected  avg_yards_gained  play_count\n",
       "0            False          5.445203       10986\n",
       "1             True          5.495617        5133"
      ]
     },
     "execution_count": 4,
     "metadata": {},
     "output_type": "execute_result"
    }
   ],
   "source": [
    "motion_outcome"
   ]
  }
 ],
 "metadata": {
  "kernelspec": {
   "display_name": "Python 3",
   "language": "python",
   "name": "python3"
  },
  "language_info": {
   "codemirror_mode": {
    "name": "ipython",
    "version": 3
   },
   "file_extension": ".py",
   "mimetype": "text/x-python",
   "name": "python",
   "nbconvert_exporter": "python",
   "pygments_lexer": "ipython3",
   "version": "3.11.1"
  }
 },
 "nbformat": 4,
 "nbformat_minor": 2
}
